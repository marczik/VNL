{
 "cells": [
  {
   "cell_type": "code",
   "execution_count": 3,
   "id": "9ff05145",
   "metadata": {},
   "outputs": [],
   "source": [
    "import pandas as pd\n",
    "import numpy as np\n",
    "import matplotlib as plt"
   ]
  },
  {
   "cell_type": "code",
   "execution_count": 4,
   "id": "d3caf506",
   "metadata": {},
   "outputs": [],
   "source": [
    "url_bestScores = \"https://en.volleyballworld.com/volleyball/competitions/vnl-2023/statistics/men/best-scorers/\"\n",
    "url_bestAttackers = \"https://en.volleyballworld.com/volleyball/competitions/vnl-2023/statistics/men/best-attackers/\"\n",
    "url_bestBlockers = \"https://en.volleyballworld.com/volleyball/competitions/vnl-2023/statistics/men/best-blockers/\"\n",
    "url_bestServers = \"https://en.volleyballworld.com/volleyball/competitions/vnl-2023/statistics/men/best-servers/\"\n",
    "url_bestSetters = \"https://en.volleyballworld.com/volleyball/competitions/vnl-2023/statistics/men/best-setters/\"\n",
    "url_bestDiggers = \"https://en.volleyballworld.com/volleyball/competitions/vnl-2023/statistics/men/best-diggers/\"\n",
    "url_bestReceivers = \"https://en.volleyballworld.com/volleyball/competitions/vnl-2023/statistics/men/best-receivers/\""
   ]
  },
  {
   "cell_type": "code",
   "execution_count": 5,
   "id": "f3b4e45c",
   "metadata": {},
   "outputs": [],
   "source": [
    "#Read data from https://en.volleyballworld.com/\n",
    "bestScores = pd.read_html(url_bestScores)[-1]\n",
    "bestAttackers = pd.read_html(url_bestAttackers)[-1]\n",
    "bestBlockers = pd.read_html(url_bestBlockers)[-1]\n",
    "bestServers = pd.read_html(url_bestServers)[-1]\n",
    "bestSetters = pd.read_html(url_bestSetters)[-1]\n",
    "bestDiggers = pd.read_html(url_bestDiggers)[-1]\n",
    "bestReceivers = pd.read_html(url_bestReceivers)[-1]"
   ]
  },
  {
   "cell_type": "code",
   "execution_count": 6,
   "id": "84cc265c",
   "metadata": {},
   "outputs": [],
   "source": [
    "poland = \"POL\"    #Poland\n",
    "opponent = \"JPN\"  #Japan"
   ]
  },
  {
   "cell_type": "code",
   "execution_count": 7,
   "id": "89f378d7",
   "metadata": {},
   "outputs": [],
   "source": [
    "#Filter data for Poland\n",
    "poland_bestScores = bestScores.loc[bestScores[\"TeamTeam\"] == poland]\n",
    "poland_bestAttackers = bestAttackers.loc[bestAttackers[\"TeamTeam\"] == poland]\n",
    "poland_bestBlockers = bestBlockers.loc[bestBlockers[\"TeamTeam\"] == poland]\n",
    "poland_bestServers = bestServers.loc[bestServers[\"TeamTeam\"] == poland]\n",
    "poland_bestSetters = bestSetters.loc[bestSetters[\"TeamTeam\"] == poland]\n",
    "poland_bestDiggers = bestDiggers.loc[bestDiggers[\"TeamTeam\"] == poland]\n",
    "poland_bestReceivers = bestReceivers.loc[bestReceivers[\"TeamTeam\"] == poland]\n",
    "\n",
    "#Filter data for opponent\n",
    "opponent_bestScores = bestScores.loc[bestScores[\"TeamTeam\"] == opponent]\n",
    "opponent_bestAttackers = bestAttackers.loc[bestAttackers[\"TeamTeam\"] == opponent]\n",
    "opponent_bestBlockers = bestBlockers.loc[bestBlockers[\"TeamTeam\"] == opponent]\n",
    "opponent_bestServers = bestServers.loc[bestServers[\"TeamTeam\"] == opponent]\n",
    "opponent_bestSetters = bestSetters.loc[bestSetters[\"TeamTeam\"] == opponent]\n",
    "opponent_bestDiggers = bestDiggers.loc[bestDiggers[\"TeamTeam\"] == opponent]\n",
    "opponent_bestReceivers = bestReceivers.loc[bestReceivers[\"TeamTeam\"] == opponent]"
   ]
  },
  {
   "cell_type": "code",
   "execution_count": 8,
   "id": "9920bb12",
   "metadata": {},
   "outputs": [],
   "source": [
    "pl_tables = [poland_bestScores, \n",
    "             poland_bestAttackers, \n",
    "             poland_bestBlockers, \n",
    "             poland_bestServers, \n",
    "             poland_bestSetters, \n",
    "             poland_bestDiggers,\n",
    "             poland_bestReceivers]\n",
    "\n",
    "opp_tables = [opponent_bestScores, \n",
    "              opponent_bestAttackers, \n",
    "              opponent_bestBlockers, \n",
    "              opponent_bestServers, \n",
    "              opponent_bestSetters, \n",
    "              opponent_bestDiggers,\n",
    "              opponent_bestReceivers]"
   ]
  },
  {
   "cell_type": "code",
   "execution_count": 9,
   "id": "dc0fd51f",
   "metadata": {},
   "outputs": [],
   "source": [
    "pl_tables[0] = pl_tables[0].rename(columns={\"PointsPts\" : \"Succesful\"})\n",
    "pl_tables[1] = pl_tables[1].rename(columns={\"Pointsattacks\" : \"Succesful\"})\n",
    "pl_tables[2] = pl_tables[2].rename(columns={\"Blocksstuff-blocks\" : \"Succesful\"})\n",
    "pl_tables[3] = pl_tables[3].rename(columns={\"Pointsserve-points\" : \"Succesful\"})\n",
    "pl_tables[4] = pl_tables[4].rename(columns={\"SuccessfulSuccessful\" : \"Succesful\"})\n",
    "pl_tables[5] = pl_tables[5].rename(columns={\"Digsgreat-save\" : \"Succesful\"})\n",
    "pl_tables[6] = pl_tables[6].rename(columns={\"SuccesfulSuccesful\" : \"Succesful\"})\n",
    "\n",
    "opp_tables[0] = opp_tables[0].rename(columns={\"PointsPts\" : \"Succesful\"})\n",
    "opp_tables[1] = opp_tables[1].rename(columns={\"Pointsattacks\" : \"Succesful\"})\n",
    "opp_tables[2] = opp_tables[2].rename(columns={\"Blocksstuff-blocks\" : \"Succesful\"})\n",
    "opp_tables[3] = opp_tables[3].rename(columns={\"Pointsserve-points\" : \"Succesful\"})\n",
    "opp_tables[4] = opp_tables[4].rename(columns={\"SuccessfulSuccessful\" : \"Succesful\"})\n",
    "opp_tables[5] = opp_tables[5].rename(columns={\"Digsgreat-save\" : \"Succesful\"})\n",
    "opp_tables[6] = opp_tables[6].rename(columns={\"SuccesfulSuccesful\" : \"Succesful\"})"
   ]
  },
  {
   "cell_type": "code",
   "execution_count": 10,
   "id": "a692a8ed",
   "metadata": {},
   "outputs": [],
   "source": [
    "#Calculate percent efficiency for Poland and opponent\n",
    "x=1\n",
    "while x < 7:\n",
    "    pl_succesfulSum = pl_tables[x][\"Succesful\"].sum()\n",
    "    pl_totalSum = pl_tables[x][\"TotalTA\"].sum()\n",
    "    \n",
    "    opp_succesfulSum = opp_tables[x][\"Succesful\"].sum()\n",
    "    opp_totalSum = opp_tables[x][\"TotalTA\"].sum()\n",
    "    \n",
    "    if x == 1:\n",
    "        poland_successAttackPercent = round(pl_succesfulSum / pl_totalSum * 100, 2)\n",
    "        opponent_successAttackPercent = round(opp_succesfulSum / opp_totalSum * 100, 2)\n",
    "    elif x == 2:\n",
    "        poland_successBlockPercent = round(pl_succesfulSum / pl_totalSum * 100, 2)\n",
    "        opponent_successBlockPercent = round(opp_succesfulSum / opp_totalSum * 100, 2)\n",
    "    elif x == 3:\n",
    "        poland_successServePercent = round(pl_succesfulSum / pl_totalSum * 100, 2)\n",
    "        opponent_successServePercent = round(opp_succesfulSum / opp_totalSum * 100, 2)\n",
    "    elif x == 4:\n",
    "        poland_successSetterPercent = round(pl_succesfulSum / pl_totalSum * 100, 2)\n",
    "        opponent_successSetterPercent = round(opp_succesfulSum / opp_totalSum * 100, 2)\n",
    "    elif x == 5:\n",
    "        poland_successDiggerPercent = round(pl_succesfulSum / pl_totalSum * 100, 2)\n",
    "        opponent_successDiggerPercent = round(opp_succesfulSum / opp_totalSum * 100, 2)\n",
    "    elif x == 6:\n",
    "        poland_successReceiverPercent = round(pl_succesfulSum / pl_totalSum * 100, 2)\n",
    "        opponent_successReceiverPercent = round(opp_succesfulSum / opp_totalSum * 100, 2)\n",
    "    x= x+1"
   ]
  },
  {
   "cell_type": "code",
   "execution_count": 11,
   "id": "f1133e5d",
   "metadata": {},
   "outputs": [],
   "source": [
    "pl_attackPercentOfTotalPoints = round(poland_bestScores[\"Attack PointsA Pts\"].sum() \n",
    "                                 / poland_bestScores[\"PointsPts\"].sum() * 100, 2)\n",
    "pl_blockPercentOfTotalPoints = round(poland_bestScores[\"Block PointsB Pts\"].sum() \n",
    "                                     / poland_bestScores[\"PointsPts\"].sum() * 100, 2)\n",
    "pl_servePercentOfTotalPoints = round(poland_bestScores[\"Serve PointsS Pts\"].sum() \n",
    "                                     / poland_bestScores[\"PointsPts\"].sum() * 100, 2)\n",
    "\n",
    "opp_attackPercentOfTotalPoints = round(opponent_bestScores[\"Attack PointsA Pts\"].sum() \n",
    "                                 / opponent_bestScores[\"PointsPts\"].sum() * 100, 2)\n",
    "opp_blockPercentOfTotalPoints = round(opponent_bestScores[\"Block PointsB Pts\"].sum() \n",
    "                                     / opponent_bestScores[\"PointsPts\"].sum() * 100, 2)\n",
    "opp_servePercentOfTotalPoints = round(opponent_bestScores[\"Serve PointsS Pts\"].sum() \n",
    "                                     / opponent_bestScores[\"PointsPts\"].sum() * 100, 2)"
   ]
  },
  {
   "cell_type": "code",
   "execution_count": 12,
   "id": "00e21178",
   "metadata": {},
   "outputs": [],
   "source": [
    "efficiencyList = [\"Atak\", \"Blok\", \"Zagrywka\", \"Rozegranie\", \"Obrona\", \"Przyjęcie\"]"
   ]
  },
  {
   "cell_type": "code",
   "execution_count": 13,
   "id": "31e61267",
   "metadata": {},
   "outputs": [],
   "source": [
    "efficiencyPoland = [poland_successAttackPercent, \n",
    "                    poland_successBlockPercent, \n",
    "                    poland_successServePercent, \n",
    "                    poland_successSetterPercent,\n",
    "                    poland_successDiggerPercent,\n",
    "                    poland_successReceiverPercent]\n",
    "\n",
    "efficiencyOpponent = [opponent_successAttackPercent,\n",
    "                      opponent_successBlockPercent, \n",
    "                      opponent_successServePercent, \n",
    "                      opponent_successSetterPercent,\n",
    "                      opponent_successDiggerPercent,\n",
    "                      opponent_successReceiverPercent]"
   ]
  },
  {
   "cell_type": "code",
   "execution_count": 14,
   "id": "632c71cb",
   "metadata": {},
   "outputs": [],
   "source": [
    "d = {\"Skuteczność\" : efficiencyList, \n",
    "     poland        : efficiencyPoland, \n",
    "     opponent      : efficiencyOpponent}\n",
    "\n",
    "df_efficiency = pd.DataFrame(data = d)"
   ]
  },
  {
   "cell_type": "code",
   "execution_count": 15,
   "id": "1bcc4585",
   "metadata": {},
   "outputs": [],
   "source": [
    "df_efficiency.set_index(\"Skuteczność\", inplace=True)"
   ]
  },
  {
   "cell_type": "code",
   "execution_count": 16,
   "id": "f9d6cc95",
   "metadata": {},
   "outputs": [],
   "source": [
    "partOfTotalPoints_Name = [\"Atak\", \"Blok\", \"Zagrywka\"]\n",
    "\n",
    "pl_partOfTotalPoints = [pl_attackPercentOfTotalPoints, \n",
    "                        pl_blockPercentOfTotalPoints, \n",
    "                        pl_servePercentOfTotalPoints]\n",
    "\n",
    "opp_partOfTotalPoints = [opp_attackPercentOfTotalPoints, \n",
    "                         opp_blockPercentOfTotalPoints, \n",
    "                         opp_servePercentOfTotalPoints]\n",
    "\n",
    "d2 = {\"Procent_wszystkich_punktów\" : partOfTotalPoints_Name,\n",
    "       poland                      : pl_partOfTotalPoints,\n",
    "       opponent                    : opp_partOfTotalPoints}\n",
    "\n",
    "df_partOfTotalPoints = pd.DataFrame(data = d2)"
   ]
  },
  {
   "cell_type": "code",
   "execution_count": 17,
   "id": "8f177590",
   "metadata": {},
   "outputs": [],
   "source": [
    "df_partOfTotalPoints.set_index(\"Procent_wszystkich_punktów\", inplace=True)"
   ]
  },
  {
   "cell_type": "code",
   "execution_count": 18,
   "id": "75675c05",
   "metadata": {},
   "outputs": [
    {
     "data": {
      "text/html": [
       "<div>\n",
       "<style scoped>\n",
       "    .dataframe tbody tr th:only-of-type {\n",
       "        vertical-align: middle;\n",
       "    }\n",
       "\n",
       "    .dataframe tbody tr th {\n",
       "        vertical-align: top;\n",
       "    }\n",
       "\n",
       "    .dataframe thead th {\n",
       "        text-align: right;\n",
       "    }\n",
       "</style>\n",
       "<table border=\"1\" class=\"dataframe\">\n",
       "  <thead>\n",
       "    <tr style=\"text-align: right;\">\n",
       "      <th></th>\n",
       "      <th>POL</th>\n",
       "      <th>JPN</th>\n",
       "    </tr>\n",
       "    <tr>\n",
       "      <th>Skuteczność</th>\n",
       "      <th></th>\n",
       "      <th></th>\n",
       "    </tr>\n",
       "  </thead>\n",
       "  <tbody>\n",
       "    <tr>\n",
       "      <th>Atak</th>\n",
       "      <td>51.01</td>\n",
       "      <td>55.03</td>\n",
       "    </tr>\n",
       "    <tr>\n",
       "      <th>Blok</th>\n",
       "      <td>19.17</td>\n",
       "      <td>13.08</td>\n",
       "    </tr>\n",
       "    <tr>\n",
       "      <th>Zagrywka</th>\n",
       "      <td>6.37</td>\n",
       "      <td>5.08</td>\n",
       "    </tr>\n",
       "    <tr>\n",
       "      <th>Rozegranie</th>\n",
       "      <td>18.18</td>\n",
       "      <td>20.52</td>\n",
       "    </tr>\n",
       "    <tr>\n",
       "      <th>Obrona</th>\n",
       "      <td>65.98</td>\n",
       "      <td>66.14</td>\n",
       "    </tr>\n",
       "    <tr>\n",
       "      <th>Przyjęcie</th>\n",
       "      <td>23.13</td>\n",
       "      <td>27.31</td>\n",
       "    </tr>\n",
       "  </tbody>\n",
       "</table>\n",
       "</div>"
      ],
      "text/plain": [
       "               POL    JPN\n",
       "Skuteczność              \n",
       "Atak         51.01  55.03\n",
       "Blok         19.17  13.08\n",
       "Zagrywka      6.37   5.08\n",
       "Rozegranie   18.18  20.52\n",
       "Obrona       65.98  66.14\n",
       "Przyjęcie    23.13  27.31"
      ]
     },
     "execution_count": 18,
     "metadata": {},
     "output_type": "execute_result"
    }
   ],
   "source": [
    "df_efficiency"
   ]
  },
  {
   "cell_type": "code",
   "execution_count": 19,
   "id": "331e7586",
   "metadata": {},
   "outputs": [
    {
     "data": {
      "text/html": [
       "<div>\n",
       "<style scoped>\n",
       "    .dataframe tbody tr th:only-of-type {\n",
       "        vertical-align: middle;\n",
       "    }\n",
       "\n",
       "    .dataframe tbody tr th {\n",
       "        vertical-align: top;\n",
       "    }\n",
       "\n",
       "    .dataframe thead th {\n",
       "        text-align: right;\n",
       "    }\n",
       "</style>\n",
       "<table border=\"1\" class=\"dataframe\">\n",
       "  <thead>\n",
       "    <tr style=\"text-align: right;\">\n",
       "      <th></th>\n",
       "      <th>POL</th>\n",
       "      <th>JPN</th>\n",
       "    </tr>\n",
       "    <tr>\n",
       "      <th>Procent_wszystkich_punktów</th>\n",
       "      <th></th>\n",
       "      <th></th>\n",
       "    </tr>\n",
       "  </thead>\n",
       "  <tbody>\n",
       "    <tr>\n",
       "      <th>Atak</th>\n",
       "      <td>77.40</td>\n",
       "      <td>85.52</td>\n",
       "    </tr>\n",
       "    <tr>\n",
       "      <th>Blok</th>\n",
       "      <td>13.73</td>\n",
       "      <td>7.53</td>\n",
       "    </tr>\n",
       "    <tr>\n",
       "      <th>Zagrywka</th>\n",
       "      <td>8.88</td>\n",
       "      <td>6.95</td>\n",
       "    </tr>\n",
       "  </tbody>\n",
       "</table>\n",
       "</div>"
      ],
      "text/plain": [
       "                              POL    JPN\n",
       "Procent_wszystkich_punktów              \n",
       "Atak                        77.40  85.52\n",
       "Blok                        13.73   7.53\n",
       "Zagrywka                     8.88   6.95"
      ]
     },
     "execution_count": 19,
     "metadata": {},
     "output_type": "execute_result"
    }
   ],
   "source": [
    "df_partOfTotalPoints"
   ]
  },
  {
   "cell_type": "code",
   "execution_count": 27,
   "id": "e26b34be",
   "metadata": {},
   "outputs": [],
   "source": [
    "plt.style.use('seaborn-v0_8')"
   ]
  },
  {
   "cell_type": "code",
   "execution_count": 28,
   "id": "1a89dafb",
   "metadata": {},
   "outputs": [
    {
     "data": {
      "text/plain": [
       "<Axes: title={'center': 'Procentowa skuteczność'}, xlabel='Skuteczność'>"
      ]
     },
     "execution_count": 28,
     "metadata": {},
     "output_type": "execute_result"
    },
    {
     "data": {
      "image/png": "[encoded data removed]",
      "text/plain": [
       "<Figure size 1500x500 with 1 Axes>"
      ]
     },
     "metadata": {},
     "output_type": "display_data"
    }
   ],
   "source": [
    "df_efficiency.plot(figsize=(15,5), kind=\"bar\", rot=45, title=\"Procentowa skuteczność\")"
   ]
  },
  {
   "cell_type": "code",
   "execution_count": 29,
   "id": "e878c90f",
   "metadata": {},
   "outputs": [
    {
     "data": {
      "text/plain": [
       "<Axes: title={'center': 'Procent wszystkich punktów'}, xlabel='Procent_wszystkich_punktów'>"
      ]
     },
     "execution_count": 29,
     "metadata": {},
     "output_type": "execute_result"
    },
    {
     "data": {
      "image/png": "[encoded data removed]",
      "text/plain": [
       "<Figure size 1000x500 with 1 Axes>"
      ]
     },
     "metadata": {},
     "output_type": "display_data"
    }
   ],
   "source": [
    "df_partOfTotalPoints.plot(figsize=(10,5), kind=\"bar\", rot=45, title=\"Procent wszystkich punktów\")"
   ]
  },
  {
   "cell_type": "code",
   "execution_count": 30,
   "id": "4dccbb2c",
   "metadata": {},
   "outputs": [],
   "source": [
    "df_efficiency.to_csv(\"Procentowa_skuteczność.csv\", sep=\";\", decimal=\",\")\n",
    "df_partOfTotalPoints.to_csv(\"Procent_wszystkich_punktów.csv\", sep=\";\", decimal=\",\")"
   ]
  }
 ],
 "metadata": {
  "kernelspec": {
   "display_name": "Python 3 (ipykernel)",
   "language": "python",
   "name": "python3"
  },
  "language_info": {
   "codemirror_mode": {
    "name": "ipython",
    "version": 3
   },
   "file_extension": ".py",
   "mimetype": "text/x-python",
   "name": "python",
   "nbconvert_exporter": "python",
   "pygments_lexer": "ipython3",
   "version": "3.10.11"
  }
 },
 "nbformat": 4,
 "nbformat_minor": 5
}
